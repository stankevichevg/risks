{
 "cells": [
  {
   "cell_type": "code",
   "execution_count": 67,
   "metadata": {
    "collapsed": true
   },
   "outputs": [],
   "source": [
    "%matplotlib inline\n",
    "\n",
    "import pandas as pd\n",
    "import numpy as np\n",
    "\n",
    "import seaborn\n",
    "seaborn.mpl.rcParams['figure.figsize'] = (7.0, 4.0)\n",
    "seaborn.mpl.rcParams['savefig.dpi'] = 100\n",
    "\n",
    "import matplotlib\n",
    "import matplotlib.pyplot as plt\n",
    "\n",
    "def load_log_returns(file, field):\n",
    "    data = pd.read_csv(file)\n",
    "    prices = np.array(data[field])\n",
    "    return np.diff(np.log(prices))\n",
    "\n",
    "def load_returns(file, field):\n",
    "    data = pd.read_csv(file)\n",
    "    prices = np.array(data[field])\n",
    "    return np.diff(prices) / prices[:-1]\n",
    "\n",
    "log_returns = load_log_returns(\"data/SP500.csv\", \"Close\")\n",
    "\n",
    "train_returns = log_returns[0:1000]\n",
    "\n",
    "sorted_train_returns = np.sort(train_returns)"
   ]
  },
  {
   "cell_type": "markdown",
   "metadata": {},
   "source": [
    "### Посчитаем исторический VAR"
   ]
  },
  {
   "cell_type": "code",
   "execution_count": 68,
   "metadata": {
    "collapsed": false
   },
   "outputs": [
    {
     "data": {
      "image/png": "[encoded data removed]",
      "text/plain": [
       "<matplotlib.figure.Figure at 0x11e17aac8>"
      ]
     },
     "metadata": {},
     "output_type": "display_data"
    }
   ],
   "source": [
    "N = len(sorted_train_returns)\n",
    "returns_plot = plt.plot(np.arange(N), sorted_train_returns)"
   ]
  },
  {
   "cell_type": "markdown",
   "metadata": {},
   "source": [
    "Создадим функцию для расчета исторического VaR и редней просадки в случае пересечения уровня Var (Expected Shortfall):\n",
    "\n",
    "1. Сортируем полученные в качестве аргумента доходности\n",
    "2. Берем $\\alpha$ самых малых доходностей, наибольшая из них и будет $VaR$\n",
    "3. Усредняем значения доходностей меньшие уровня $VaR$, получаем $ES$"
   ]
  },
  {
   "cell_type": "code",
   "execution_count": 69,
   "metadata": {
    "collapsed": false
   },
   "outputs": [],
   "source": [
    "def history_var(data, alpha):\n",
    "    sorted_data = np.sort(data)\n",
    "    N = len(sorted_data)\n",
    "    alphaN = round(N * alpha)\n",
    "    return sorted_data[alphaN], np.mean(sorted_data[0:alphaN])"
   ]
  },
  {
   "cell_type": "markdown",
   "metadata": {},
   "source": [
    "Используя реализованную функцию посчитаем $VaR$ для уровней 1% и 5% при условии, что весь капитал 1000000000"
   ]
  },
  {
   "cell_type": "code",
   "execution_count": 70,
   "metadata": {
    "collapsed": false
   },
   "outputs": [
    {
     "name": "stdout",
     "output_type": "stream",
     "text": [
      "Var(1) = -20080726.790476, ES1 = -24289235.531767\n",
      "Var(5) = -13077359.109981, ES5 = -17287259.322200\n"
     ]
    }
   ],
   "source": [
    "capital = 1000000000\n",
    "\n",
    "var1, es1 = history_var(train_returns, 0.01)\n",
    "var5, es5 = history_var(train_returns, 0.05)\n",
    "\n",
    "print(\"Var(1) = %f, ES1 = %f\" % ((var1 * capital), (es1 * capital)))\n",
    "print(\"Var(5) = %f, ES5 = %f\" % ((var5 * capital), (es5 * capital)))"
   ]
  },
  {
   "cell_type": "markdown",
   "metadata": {
    "collapsed": true
   },
   "source": [
    "### Посчитаем параметрический VAR\n",
    "\n",
    "Оценим эмпирические первый и второй моменты для доходности.\n",
    "\n",
    "$$\\mu = \\frac{1}{N} \\sum_{i = 1}^{N} r_i$$\n",
    "\n",
    "$$\\sigma = \\sqrt{\\frac{1}{N} \\sum_{i = 1}^{N} (r_i - \\mu)^2}$$\n",
    "\n",
    "Получаем значение процентной точки $ppf$ нормального распределения для заданного уровня $\\alpha$.\n",
    "\n",
    "Предполагая, что логарифмическая доходность распределена нормальна, можно найти значение процентной точки для этого распределения, это и будет $VaR$:\n",
    "\n",
    "$$VaR = \\mu - \\left| ppf * \\sigma \\right|$$\n",
    "\n",
    "Ожидаемая просадка может быть найдена как условное математическое ожидание просадки при условии, что потери больше уровня VaR. Оно может быть найденно по следующей формуле (из какой то статьи показывали на лекции):\n",
    "\n",
    "$$ES = \\frac{-\\sigma * e^{-\\frac{ppf}{2}}}{\\alpha \\sqrt{2\\pi}}$$"
   ]
  },
  {
   "cell_type": "code",
   "execution_count": 71,
   "metadata": {
    "collapsed": false
   },
   "outputs": [],
   "source": [
    "from scipy.stats import norm\n",
    "\n",
    "def parametric_var(data, alpha, period=1):\n",
    "    mu = np.mean(data)\n",
    "    sigma = np.sqrt(period) * np.std(data)\n",
    "    ppf = norm.ppf(alpha)\n",
    "    return mu - np.abs(ppf * sigma), (-sigma * np.exp(-np.power(ppf, 2) / 2) / (alpha * np.sqrt(2 * np.pi)))\n",
    "\n"
   ]
  },
  {
   "cell_type": "markdown",
   "metadata": {},
   "source": [
    "Используя реализованную функцию посчитаем $VaR$ для уровней 1% и 5% при условии, что весь капитал 1000000000"
   ]
  },
  {
   "cell_type": "code",
   "execution_count": 72,
   "metadata": {
    "collapsed": false
   },
   "outputs": [
    {
     "name": "stdout",
     "output_type": "stream",
     "text": [
      "Var(1) = -18884599.776851, ES1 = -21197395.613951\n",
      "Var(5) = -13464433.902788, ES5 = -16405487.815920\n"
     ]
    }
   ],
   "source": [
    "var5, es5 = parametric_var(train_returns, 0.05)\n",
    "var1, es1 = parametric_var(train_returns, 0.01)\n",
    "\n",
    "print(\"Var(1) = %f, ES1 = %f\" % ((var1 * capital), (es1 * capital)))\n",
    "print(\"Var(5) = %f, ES5 = %f\" % ((var5 * capital), (es5 * capital)))"
   ]
  },
  {
   "cell_type": "markdown",
   "metadata": {},
   "source": [
    "Рассчитанные значения исторического и паарметрического значения для уровня 5% незначительно отличаются друг от друга. Тем временем значения 1% для модельного Var недооценивает реальную толщину левого хвоста распределения: значение модельного получается меньше реализованного. Примечательно, что Expected Shortfall также оказывается недооценен и для 5% уровня."
   ]
  },
  {
   "cell_type": "markdown",
   "metadata": {},
   "source": [
    "### Расчет VAR с учетом ассиметрии и эксцесса\n",
    "\n",
    "Процентная точка с учетом ассиметрии и эксцесса может быть найдена из разложения Корниша-Фишера:\n",
    "\n",
    "$$\\Omega(\\alpha) = z(\\alpha) + \\frac{1}{6} (z(\\alpha)^2 - 1) S + \\frac{1}{24} (z(\\alpha)^3 - 3 z(\\alpha)) K - \\frac{1}{36} (2 z(\\alpha)^3 - 5 z(\\alpha)) S^2$$\n",
    "\n",
    "где S и K - эмпирические коэффициенты ассиметрии и эксцесса, соответственно. $z(\\alpha)$ - процентная точка для стандартного нормального распределения.\n",
    "\n",
    "$$VaR_{CF} = \\mu + \\Omega(\\alpha) * \\sigma$$"
   ]
  },
  {
   "cell_type": "code",
   "execution_count": 73,
   "metadata": {
    "collapsed": false
   },
   "outputs": [],
   "source": [
    "from scipy.stats import norm, kurtosis, skew\n",
    "\n",
    "def cf_var(data, alpha, period=1):\n",
    "    S = skew(data)\n",
    "    K = kurtosis(data)\n",
    "    mu = np.mean(data)\n",
    "    sigma = np.std(data)\n",
    "    z = norm.ppf(alpha)\n",
    "    omega = z + 1/6 * (np.power(z, 2) - 1) * S + 1/24 * (np.power(z, 3) - 3 * z) * K - 1/36 * (2 * np.power(z, 3) - 5 * z) * np.power(S, 2)\n",
    "    return (mu + omega * sigma)"
   ]
  },
  {
   "cell_type": "markdown",
   "metadata": {},
   "source": [
    "Используя реализованную функцию посчитаем VaR с учетом ассиметрии и эксцесса для уровней 1% и 5% при условии, что весь капитал 1000000000"
   ]
  },
  {
   "cell_type": "code",
   "execution_count": 74,
   "metadata": {
    "collapsed": false
   },
   "outputs": [
    {
     "name": "stdout",
     "output_type": "stream",
     "text": [
      "Var(1) = -20936537.559196\n",
      "Var(5) = -12218414.023041\n"
     ]
    }
   ],
   "source": [
    "var1 = cf_var(train_returns, 0.01)\n",
    "var5 = cf_var(train_returns, 0.05)\n",
    "\n",
    "print(\"Var(1) = %f\" % (var1 * capital))\n",
    "print(\"Var(5) = %f\" % (var5 * capital))"
   ]
  },
  {
   "cell_type": "markdown",
   "metadata": {},
   "source": [
    " ### Расчет портфельного  VAR  для 1 дня, для уровней вероятности 0.05 и 0.01, для двух ковариационных матриц\n",
    "\n",
    "Загрузим данные для следующих компаний: МТС, Сбербанк, Мечел, МосБиржа:"
   ]
  },
  {
   "cell_type": "code",
   "execution_count": 75,
   "metadata": {
    "collapsed": false
   },
   "outputs": [],
   "source": [
    "log_returns_moex = load_log_returns(\"data/MOEX_160616_170616.csv\", \"<CLOSE>\")\n",
    "log_returns_mtlr = load_log_returns(\"data/MTLR_160616_170616.csv\", \"<CLOSE>\")\n",
    "log_returns_mtss = load_log_returns(\"data/MTSS_160616_170616.csv\", \"<CLOSE>\")\n",
    "log_returns_sber = load_log_returns(\"data/SBER_160616_170616.csv\", \"<CLOSE>\")\n",
    "\n",
    "returns = np.stack([log_returns_moex, log_returns_mtlr, log_returns_mtss, log_returns_sber])"
   ]
  },
  {
   "cell_type": "markdown",
   "metadata": {},
   "source": [
    "Пусть все бумаги в портфеле в равных долях. Посчитаем ковариационную матрицу для доходностей заданных активов. Пусть капитал 1000000 руб."
   ]
  },
  {
   "cell_type": "code",
   "execution_count": 76,
   "metadata": {
    "collapsed": false
   },
   "outputs": [],
   "source": [
    "from scipy.stats import norm\n",
    "\n",
    "# потом может пригодится когда нибудь\n",
    "weighted_returns = returns * np.tile(weights, (1, returns.shape[1]))\n",
    "\n",
    "capital = 1000000\n",
    "\n",
    "alpha1 = 0.99\n",
    "alpha5 = 0.95\n",
    "\n",
    "weights = np.array([[0.25], [0.25], [0.25], [0.25]])\n",
    "\n",
    "def portfolio_var(returns, weights, alpha, diagonal=False):\n",
    "    ppf = norm.ppf(1 - alpha)\n",
    "    cov_matrix = np.cov(returns)\n",
    "    if diagonal:\n",
    "        cov_matrix = cov_matrix * np.identity(cov_matrix.shape[0])\n",
    "    marginal = cov_matrix.dot(weights)\n",
    "    dispersion = marginal.T.dot(weights)\n",
    "    sigma = np.sqrt(dispersion)\n",
    "    return (capital * sigma * ppf1)[0,0]"
   ]
  },
  {
   "cell_type": "markdown",
   "metadata": {},
   "source": [
    "Посчитаем VaR с учетом диагональных элементов ковариационной матрицы"
   ]
  },
  {
   "cell_type": "code",
   "execution_count": 77,
   "metadata": {
    "collapsed": false
   },
   "outputs": [
    {
     "name": "stdout",
     "output_type": "stream",
     "text": [
      "Var(1) = 33818.017143\n",
      "Var(5) = 33818.017143\n"
     ]
    }
   ],
   "source": [
    "print(\"Var(1) = %f\" % portfolio_var(returns, weights, 0.01))\n",
    "print(\"Var(5) = %f\" % portfolio_var(returns, weights, 0.05))"
   ]
  },
  {
   "cell_type": "markdown",
   "metadata": {},
   "source": [
    "Посчитаем VaR без учета диагональных элементов ковариационной матрицы:"
   ]
  },
  {
   "cell_type": "code",
   "execution_count": 78,
   "metadata": {
    "collapsed": false
   },
   "outputs": [
    {
     "name": "stdout",
     "output_type": "stream",
     "text": [
      "Var(1) = 27568.132420\n",
      "Var(5) = 27568.132420\n"
     ]
    }
   ],
   "source": [
    "print(\"Var(1) = %f\" % portfolio_var(returns, weights, 0.01, diagonal=True))\n",
    "print(\"Var(5) = %f\" % portfolio_var(returns, weights, 0.05, diagonal=True))"
   ]
  },
  {
   "cell_type": "markdown",
   "metadata": {},
   "source": [
    "Вывод: без учета парных корреляций между инструментами в портфеле VaR получается меньше."
   ]
  },
  {
   "cell_type": "markdown",
   "metadata": {},
   "source": [
    "### Бэк-тестинг однодневного VAR  (уровень вероятности 0.01) для четырех активов. Для процедуры взять  исторический,  параметрический и скорректированный VAR.\n",
    "\n",
    "Оставлю тут ссылку на очень годную книженцию (стр 147)\n",
    "\n",
    "https://www.scribd.com/doc/146088361/Value-at-Risk-3rd-Ed-the-New-Benchmark-for-Managing-Financial-Risk\n",
    "\n",
    "Считаем все значения, которые будем тестировать и загрузим данные."
   ]
  },
  {
   "cell_type": "code",
   "execution_count": 80,
   "metadata": {
    "collapsed": false
   },
   "outputs": [],
   "source": [
    "moex_history_var, _ = history_var(log_returns_moex, 0.01)\n",
    "mtlr_history_var, _ = history_var(log_returns_mtlr, 0.01)\n",
    "mtss_history_var, _ = history_var(log_returns_mtss, 0.01)\n",
    "sber_history_var, _ = history_var(log_returns_sber, 0.01)\n",
    "\n",
    "moex_parametric_var, _ = parametric_var(log_returns_moex, 0.01)\n",
    "mtlr_parametric_var, _ = parametric_var(log_returns_mtlr, 0.01)\n",
    "mtss_parametric_var, _ = parametric_var(log_returns_mtss, 0.01)\n",
    "sber_parametric_var, _ = parametric_var(log_returns_sber, 0.01)\n",
    "\n",
    "moex_cf_var = cf_var(log_returns_moex, 0.01)\n",
    "mtlr_cf_var = cf_var(log_returns_mtlr, 0.01)\n",
    "mtss_cf_var = cf_var(log_returns_mtss, 0.01)\n",
    "sber_cf_var = cf_var(log_returns_sber, 0.01)\n",
    "\n",
    "returns_moex = load_returns(\"data/MOEX_160616_170616.csv\", \"<CLOSE>\")\n",
    "returns_mtlr = load_returns(\"data/MTLR_160616_170616.csv\", \"<CLOSE>\")\n",
    "returns_mtss = load_returns(\"data/MTSS_160616_170616.csv\", \"<CLOSE>\")\n",
    "returns_sber = load_returns(\"data/SBER_160616_170616.csv\", \"<CLOSE>\")"
   ]
  },
  {
   "cell_type": "markdown",
   "metadata": {},
   "source": [
    "Напишем функцию для процедуры бэктестинга:"
   ]
  },
  {
   "cell_type": "code",
   "execution_count": 134,
   "metadata": {
    "collapsed": false
   },
   "outputs": [],
   "source": [
    "import scipy.stats\n",
    "\n",
    "def backtest_var(returns, var, p):\n",
    "    # размер периода\n",
    "    T = returns.shape[0]\n",
    "    # считаем число пересечений\n",
    "    N = np.sum(returns < var)\n",
    "    # считаем статистику\n",
    "    LR = -2 * np.log(np.power(1 - p, T - N) * np.power(p, N)) + 2 * np.log(np.power(1 - N/T, T - N) * np.power(N/T, N))\n",
    "    # сравниваем значение статистики с процентной точки хи-квадрат распределения    \n",
    "    return ((LR < scipy.stats.chi2.ppf(1 - p, df=1)), LR, N)     \n",
    "\n",
    "def backtest_report(method, instrument, returns, var, p):\n",
    "    \n",
    "    from colorama import Fore\n",
    "    \n",
    "    good_model, LR, N = backtest_var(returns, var, p)    \n",
    "    if good_model:\n",
    "        print(Fore.GREEN + \"LR = %5.2f. N = %5.2f. Method %s for %s CAN BE applied with confidence %f.\" % \n",
    "              (LR, N, method, instrument, p))\n",
    "    else:\n",
    "        print(Fore.RED + \"LR = %5.2f. N = %5.2f. Method %s for %s CAN NOT BE applied with confidence %f.\" % \n",
    "              (LR, N, method, instrument, p))"
   ]
  },
  {
   "cell_type": "markdown",
   "metadata": {},
   "source": [
    "Проведем тесты для всех методов и инструментов:"
   ]
  },
  {
   "cell_type": "code",
   "execution_count": 135,
   "metadata": {
    "collapsed": false
   },
   "outputs": [
    {
     "name": "stdout",
     "output_type": "stream",
     "text": [
      "\u001b[32mLR =  0.08. N =  3.00. Method historic_var for MOEX CAN BE applied with confidence 0.010000.\n",
      "\u001b[32mLR =  0.08. N =  3.00. Method historic_var for MTLR CAN BE applied with confidence 0.010000.\n",
      "\u001b[32mLR =  0.08. N =  3.00. Method historic_var for MTSS CAN BE applied with confidence 0.010000.\n",
      "\u001b[32mLR =  0.08. N =  3.00. Method historic_var for SBER CAN BE applied with confidence 0.010000.\n",
      "\u001b[32mLR =  0.73. N =  4.00. Method parametric_var for MOEX CAN BE applied with confidence 0.010000.\n",
      "\u001b[31mLR = 15.68. N = 11.00. Method parametric_var for MTLR CAN NOT BE applied with confidence 0.010000.\n",
      "\u001b[32mLR =  0.73. N =  4.00. Method parametric_var for MTSS CAN BE applied with confidence 0.010000.\n",
      "\u001b[32mLR =  1.21. N =  1.00. Method parametric_var for SBER CAN BE applied with confidence 0.010000.\n",
      "\u001b[32mLR =  0.08. N =  3.00. Method cf_var for MOEX CAN BE applied with confidence 0.010000.\n",
      "\u001b[31mLR = 10.07. N =  9.00. Method cf_var for MTLR CAN NOT BE applied with confidence 0.010000.\n",
      "\u001b[32mLR =  1.21. N =  1.00. Method cf_var for MTSS CAN BE applied with confidence 0.010000.\n",
      "\u001b[32mLR =  0.12. N =  2.00. Method cf_var for SBER CAN BE applied with confidence 0.010000.\n"
     ]
    }
   ],
   "source": [
    "backtest_report(\"historic_var\", \"MOEX\", returns_moex, moex_history_var, 0.01)\n",
    "backtest_report(\"historic_var\", \"MTLR\", returns_mtlr, mtlr_history_var, 0.01)\n",
    "backtest_report(\"historic_var\", \"MTSS\", returns_mtss, mtss_history_var, 0.01)\n",
    "backtest_report(\"historic_var\", \"SBER\", returns_sber, sber_history_var, 0.01)\n",
    "\n",
    "backtest_report(\"parametric_var\", \"MOEX\", returns_moex, moex_parametric_var, 0.01)\n",
    "backtest_report(\"parametric_var\", \"MTLR\", returns_mtlr, moex_parametric_var, 0.01)\n",
    "backtest_report(\"parametric_var\", \"MTSS\", returns_mtss, moex_parametric_var, 0.01)\n",
    "backtest_report(\"parametric_var\", \"SBER\", returns_sber, moex_parametric_var, 0.01)\n",
    "\n",
    "backtest_report(\"cf_var\", \"MOEX\", returns_moex, moex_cf_var, 0.01)\n",
    "backtest_report(\"cf_var\", \"MTLR\", returns_mtlr, mtlr_cf_var, 0.01)\n",
    "backtest_report(\"cf_var\", \"MTSS\", returns_mtss, mtss_cf_var, 0.01)\n",
    "backtest_report(\"cf_var\", \"SBER\", returns_sber, sber_cf_var, 0.01)"
   ]
  }
 ],
 "metadata": {
  "anaconda-cloud": {},
  "kernelspec": {
   "display_name": "Python [conda root]",
   "language": "python",
   "name": "conda-root-py"
  },
  "language_info": {
   "codemirror_mode": {
    "name": "ipython",
    "version": 3
   },
   "file_extension": ".py",
   "mimetype": "text/x-python",
   "name": "python",
   "nbconvert_exporter": "python",
   "pygments_lexer": "ipython3",
   "version": "3.5.2"
  },
  "widgets": {
   "state": {},
   "version": "1.1.2"
  }
 },
 "nbformat": 4,
 "nbformat_minor": 2
}
